{
  "nbformat": 4,
  "nbformat_minor": 0,
  "metadata": {
    "colab": {
      "name": "YAMNet hops animation.ipynb",
      "private_outputs": true,
      "provenance": []
    },
    "kernelspec": {
      "name": "python3",
      "display_name": "Python 3"
    }
  },
  "cells": [
    {
      "cell_type": "markdown",
      "metadata": {
        "id": "4BpyohUmPBA7"
      },
      "source": [
        "This colab creates an animation of what the [YAMNet](https://tfhub.dev/google/yamnet/1) model does internally with it's framing and hops"
      ]
    },
    {
      "cell_type": "code",
      "metadata": {
        "id": "rANrC01l5PlX"
      },
      "source": [
        "import tensorflow as tf\n",
        "import numpy as np\n",
        "import tensorflow_hub as hub\n",
        "import soundfile as sf\n",
        "from matplotlib.animation import FuncAnimation\n",
        "import math\n",
        "\n",
        "import matplotlib.pylab as plt"
      ],
      "execution_count": null,
      "outputs": []
    },
    {
      "cell_type": "markdown",
      "metadata": {
        "id": "Vy8TQ5IfO78j"
      },
      "source": [
        "Download the audio image"
      ]
    },
    {
      "cell_type": "code",
      "metadata": {
        "id": "n4VYFLV63N_z"
      },
      "source": [
        "\n",
        "testing_wav_file_name = tf.keras.utils.get_file('miaow_16k.wav',\n",
        "                                                'https://storage.googleapis.com/audioset/miaow_16k.wav',\n",
        "                                                cache_dir='./',\n",
        "                                                cache_subdir='test_data')\n",
        "\n",
        "print(testing_wav_file_name)"
      ],
      "execution_count": null,
      "outputs": []
    },
    {
      "cell_type": "code",
      "metadata": {
        "id": "stbKk4iu4-kY"
      },
      "source": [
        "wav_data, sr = sf.read(testing_wav_file_name, dtype=np.int16)\n",
        "duration = len(wav_data) / sr"
      ],
      "execution_count": null,
      "outputs": []
    },
    {
      "cell_type": "markdown",
      "metadata": {
        "id": "bj3IfeE1O2nl"
      },
      "source": [
        "Define some of the parameters for the animation"
      ]
    },
    {
      "cell_type": "code",
      "metadata": {
        "id": "nd4fRWjG5EiA"
      },
      "source": [
        "window_size = 0.96\n",
        "window_hop = 0.48\n",
        "window_size_number = window_size * sr\n",
        "window_hop_number = window_hop * sr\n",
        "\n",
        "max = wav_data.max()\n",
        "min = wav_data.min()\n",
        "height = max - min\n",
        "\n",
        "size_wav_data = len(wav_data)\n",
        "n = math.ceil(size_wav_data / window_hop_number)\n",
        "zeros = np.zeros(int(n * window_hop_number) - size_wav_data)\n",
        "wav_data_complete = np.append(wav_data,  zeros)\n",
        "len(zeros), len(wav_data), n, len(wav_data_complete)"
      ],
      "execution_count": null,
      "outputs": []
    },
    {
      "cell_type": "code",
      "metadata": {
        "id": "asCafkaOV_pj"
      },
      "source": [
        "window_size_number, window_hop_number"
      ],
      "execution_count": null,
      "outputs": []
    },
    {
      "cell_type": "code",
      "metadata": {
        "id": "RBAOKOpP5J1_"
      },
      "source": [
        "from matplotlib import rc\n",
        "from matplotlib import animation\n",
        "from matplotlib.patches import Rectangle\n",
        "rc('animation', html='jshtml')\n",
        "\n",
        "fig = plt.figure(figsize=(12, 4))\n",
        "ax = plt.subplot2grid((1, 5), (0, 0), rowspan=1, colspan=4)\n",
        "ax2 = plt.subplot2grid((1, 5), (0, 4), rowspan=1, colspan=1)\n",
        "# line, = ax.plot(wav_data_complete)\n",
        "\n",
        "positions = (0, 1*sr, 2*sr, 3*sr, 4*sr, 5*sr, 6*sr)\n",
        "labels = (\"0s\", '1s', '2s', '3s', '4s', '5s', '6s')\n",
        "\n",
        "plt.xticks(positions, labels)\n",
        "\n",
        "def animateL(i):\n",
        "\n",
        "  # draw the main view and move the yellow highlight\n",
        "  ax.clear()\n",
        "\n",
        "  line, = ax.plot(wav_data_complete, 'b')\n",
        "  step = i*window_hop*sr\n",
        "  ax.add_patch(Rectangle((step, min), window_size_number, height, label=\"0.96s\",\n",
        "                      alpha=1, edgecolor='k', linewidth=1, facecolor='y'))\n",
        "  ax.text(step, max + 300, '  0.96s')\n",
        "  ax.set_ylim(bottom=min + (min*.15), top=max + (max*.2))\n",
        "  ax.set_xticks(positions)\n",
        "  ax.set_xticklabels(labels)\n",
        "  ax.set_title(f'Frame: {i:2} ({i*0.48:.2f}s)')\n",
        "\n",
        "  # work on the detail view (on the right)\n",
        "  ax2.clear()\n",
        "  pos1 = int(step)\n",
        "  pos2 = int(step+window_size_number)\n",
        "  \n",
        "  wav_split = wav_data_complete[pos1:pos2]\n",
        "  middle = int(len(wav_split) / 2)\n",
        "\n",
        "  ax2.plot(wav_split, 'b')\n",
        "  ax2.set_title(f'{i*0.48:.2f}s - {(i+1)*0.48:.2f}s')\n",
        "  ax2.set_ylim(bottom=min + (min*.15), top=max + (max*.2))  \n",
        "  ax2.yaxis.set_ticks_position('right')\n",
        "  ax2.set_xticks([])\n",
        "  \n",
        "  return line,\n",
        "\n",
        "frames = math.floor(duration / window_hop)\n",
        "anim = FuncAnimation(fig, animateL, frames=frames, interval=500, blit=True)\n",
        "\n",
        "writergif = animation.PillowWriter() \n",
        "anim.save('./yamnet_animation.gif', writer=writergif)\n",
        "\n",
        "anim"
      ],
      "execution_count": null,
      "outputs": []
    }
  ]
}