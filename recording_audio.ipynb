{
  "nbformat": 4,
  "nbformat_minor": 0,
  "metadata": {
    "colab": {
      "name": "recording audio.ipynb",
      "private_outputs": true,
      "provenance": [],
      "toc_visible": true,
      "authorship_tag": "ABX9TyNewAwn4Xegr1hAExHq5Js0",
      "include_colab_link": true
    },
    "kernelspec": {
      "name": "python3",
      "display_name": "Python 3"
    }
  },
  "cells": [
    {
      "cell_type": "markdown",
      "metadata": {
        "id": "view-in-github",
        "colab_type": "text"
      },
      "source": [
        "<a href=\"https://colab.research.google.com/github/gustheman/ml_for_audio/blob/main/recording_audio.ipynb\" target=\"_parent\"><img src=\"https://colab.research.google.com/assets/colab-badge.svg\" alt=\"Open In Colab\"/></a>"
      ]
    },
    {
      "cell_type": "markdown",
      "metadata": {
        "id": "-qCITh60mLkh"
      },
      "source": [
        "# Quick sample to record audio on colab"
      ]
    },
    {
      "cell_type": "code",
      "metadata": {
        "id": "ax_9tbHSqvri"
      },
      "source": [
        "!pip -q install pydub"
      ],
      "execution_count": null,
      "outputs": []
    },
    {
      "cell_type": "code",
      "metadata": {
        "id": "pOivGjAQmkyI"
      },
      "source": [
        "from IPython.display import Audio, Javascript\n",
        "from base64 import b64decode\n",
        "import matplotlib.pyplot as plt\n",
        "from scipy.io import wavfile\n",
        "from pydub import AudioSegment"
      ],
      "execution_count": null,
      "outputs": []
    },
    {
      "cell_type": "code",
      "metadata": {
        "id": "UCzD0fbmmIqh"
      },
      "source": [
        "RECORD = \"\"\"\n",
        "const sleep  = time => new Promise(resolve => setTimeout(resolve, time))\n",
        "const b2text = blob => new Promise(resolve => {\n",
        "  const reader = new FileReader()\n",
        "  reader.onloadend = e => resolve(e.srcElement.result)\n",
        "  reader.readAsDataURL(blob)\n",
        "})\n",
        "var record = time => new Promise(async resolve => {\n",
        "  stream = await navigator.mediaDevices.getUserMedia({ audio: true })\n",
        "  recorder = new MediaRecorder(stream)\n",
        "  chunks = []\n",
        "  recorder.ondataavailable = e => chunks.push(e.data)\n",
        "  recorder.start()\n",
        "  await sleep(time)\n",
        "  recorder.onstop = async ()=>{\n",
        "    blob = new Blob(chunks)\n",
        "    text = await b2text(blob)\n",
        "    resolve(text)\n",
        "  }\n",
        "  recorder.stop()\n",
        "})\n",
        "\"\"\"\n",
        "\n",
        "def record(sec=5):\n",
        "  try:\n",
        "    from google.colab import output\n",
        "  except ImportError:\n",
        "    print('No possible to import output from google.colab')\n",
        "    return ''\n",
        "  else:\n",
        "    print('Recording')\n",
        "    display(Javascript(RECORD))\n",
        "    s = output.eval_js('record(%d)' % (sec*1000))\n",
        "    fname = 'recorded_audio.wav'\n",
        "    print('Saving to', fname)\n",
        "    b = b64decode(s.split(',')[1])\n",
        "    with open(fname, 'wb') as f:\n",
        "      f.write(b)\n",
        "    return fname"
      ],
      "execution_count": null,
      "outputs": []
    },
    {
      "cell_type": "code",
      "metadata": {
        "id": "tp7CcsBimfWL"
      },
      "source": [
        "recorded_file_name = record(5)"
      ],
      "execution_count": null,
      "outputs": []
    },
    {
      "cell_type": "code",
      "metadata": {
        "id": "6X30VfmaqzVr"
      },
      "source": [
        "# tricky to fix the audio just recorded and change the sample_rate\n",
        "def resample_audio(audio_file_name, output_sample_rate=16000):\n",
        "  audio = AudioSegment.from_file(audio_file_name)\n",
        "  audio = audio.set_frame_rate(output_sample_rate).set_channels(1)\n",
        "  audio.export(audio_file_name, format=\"wav\")\n",
        "\n",
        "resample_audio(recorded_file_name)"
      ],
      "execution_count": null,
      "outputs": []
    },
    {
      "cell_type": "code",
      "metadata": {
        "id": "i_fd7ZTnnL0W"
      },
      "source": [
        "print(f'loading file {recorded_file_name}')\n",
        "sample_rate, audio_samples = wavfile.read(recorded_file_name, 'rb')\n",
        "\n",
        "print(f'sample_rate: {sample_rate}')\n",
        "print(f'duration: {len(audio_samples)/sample_rate}')\n",
        "\n",
        "Audio(recorded_file_name)"
      ],
      "execution_count": null,
      "outputs": []
    },
    {
      "cell_type": "code",
      "metadata": {
        "id": "amUQvnVanw8Y"
      },
      "source": [
        "#showing the waveform\n",
        "plt.plot(audio_samples)"
      ],
      "execution_count": null,
      "outputs": []
    }
  ]
}